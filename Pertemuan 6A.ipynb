{
 "cells": [
  {
   "cell_type": "code",
   "execution_count": 3,
   "metadata": {},
   "outputs": [],
   "source": [
    "import pandas as pd\n",
    "df = pd.read_csv('weather.csv')"
   ]
  },
  {
   "cell_type": "code",
   "execution_count": 4,
   "metadata": {},
   "outputs": [],
   "source": [
    "import pandas as pd\n",
    "df_dummies = pd.get_dummies(df, drop_first=True)"
   ]
  },
  {
   "cell_type": "code",
   "execution_count": 8,
   "metadata": {},
   "outputs": [],
   "source": [
    "from sklearn.utils import shuffle\n",
    "df_shuffled = shuffle(df_dummies, random_state=42)"
   ]
  },
  {
   "cell_type": "code",
   "execution_count": 18,
   "metadata": {},
   "outputs": [
    {
     "data": {
      "text/html": [
       "<div>\n",
       "<style scoped>\n",
       "    .dataframe tbody tr th:only-of-type {\n",
       "        vertical-align: middle;\n",
       "    }\n",
       "\n",
       "    .dataframe tbody tr th {\n",
       "        vertical-align: top;\n",
       "    }\n",
       "\n",
       "    .dataframe thead th {\n",
       "        text-align: right;\n",
       "    }\n",
       "</style>\n",
       "<table border=\"1\" class=\"dataframe\">\n",
       "  <thead>\n",
       "    <tr style=\"text-align: right;\">\n",
       "      <th></th>\n",
       "      <th>Temperature_c</th>\n",
       "      <th>Humidity</th>\n",
       "      <th>Wind_Speed_kmh</th>\n",
       "      <th>Wind_Bearing_degrees</th>\n",
       "      <th>Visibility_km</th>\n",
       "      <th>Pressure_millibars</th>\n",
       "      <th>Rain</th>\n",
       "      <th>Description</th>\n",
       "    </tr>\n",
       "  </thead>\n",
       "  <tbody>\n",
       "    <tr>\n",
       "      <th>0</th>\n",
       "      <td>-0.555556</td>\n",
       "      <td>0.92</td>\n",
       "      <td>11.2700</td>\n",
       "      <td>130</td>\n",
       "      <td>8.0500</td>\n",
       "      <td>1021.60</td>\n",
       "      <td>0</td>\n",
       "      <td>Cold</td>\n",
       "    </tr>\n",
       "    <tr>\n",
       "      <th>1</th>\n",
       "      <td>21.111111</td>\n",
       "      <td>0.73</td>\n",
       "      <td>20.9300</td>\n",
       "      <td>330</td>\n",
       "      <td>16.1000</td>\n",
       "      <td>1017.00</td>\n",
       "      <td>1</td>\n",
       "      <td>Warm</td>\n",
       "    </tr>\n",
       "    <tr>\n",
       "      <th>2</th>\n",
       "      <td>16.600000</td>\n",
       "      <td>0.97</td>\n",
       "      <td>5.9731</td>\n",
       "      <td>193</td>\n",
       "      <td>14.9086</td>\n",
       "      <td>1013.99</td>\n",
       "      <td>1</td>\n",
       "      <td>Normal</td>\n",
       "    </tr>\n",
       "    <tr>\n",
       "      <th>3</th>\n",
       "      <td>1.600000</td>\n",
       "      <td>0.82</td>\n",
       "      <td>3.2200</td>\n",
       "      <td>300</td>\n",
       "      <td>16.1000</td>\n",
       "      <td>1031.59</td>\n",
       "      <td>1</td>\n",
       "      <td>Cold</td>\n",
       "    </tr>\n",
       "    <tr>\n",
       "      <th>4</th>\n",
       "      <td>2.194444</td>\n",
       "      <td>0.60</td>\n",
       "      <td>10.8836</td>\n",
       "      <td>116</td>\n",
       "      <td>9.9820</td>\n",
       "      <td>1020.88</td>\n",
       "      <td>1</td>\n",
       "      <td>Cold</td>\n",
       "    </tr>\n",
       "  </tbody>\n",
       "</table>\n",
       "</div>"
      ],
      "text/plain": [
       "   Temperature_c  Humidity  Wind_Speed_kmh  Wind_Bearing_degrees  \\\n",
       "0      -0.555556      0.92         11.2700                   130   \n",
       "1      21.111111      0.73         20.9300                   330   \n",
       "2      16.600000      0.97          5.9731                   193   \n",
       "3       1.600000      0.82          3.2200                   300   \n",
       "4       2.194444      0.60         10.8836                   116   \n",
       "\n",
       "   Visibility_km  Pressure_millibars  Rain Description  \n",
       "0         8.0500             1021.60     0        Cold  \n",
       "1        16.1000             1017.00     1        Warm  \n",
       "2        14.9086             1013.99     1      Normal  \n",
       "3        16.1000             1031.59     1        Cold  \n",
       "4         9.9820             1020.88     1        Cold  "
      ]
     },
     "execution_count": 18,
     "metadata": {},
     "output_type": "execute_result"
    }
   ],
   "source": [
    "df.head()"
   ]
  },
  {
   "cell_type": "code",
   "execution_count": 2,
   "metadata": {},
   "outputs": [
    {
     "ename": "NameError",
     "evalue": "name 'df_shuffled' is not defined",
     "output_type": "error",
     "traceback": [
      "\u001b[1;31m---------------------------------------------------------------------------\u001b[0m",
      "\u001b[1;31mNameError\u001b[0m                                 Traceback (most recent call last)",
      "\u001b[1;32m<ipython-input-2-591b9fb71412>\u001b[0m in \u001b[0;36m<module>\u001b[1;34m\u001b[0m\n\u001b[0;32m      1\u001b[0m \u001b[0mDV\u001b[0m \u001b[1;33m=\u001b[0m \u001b[1;34m'Rain'\u001b[0m\u001b[1;33m\u001b[0m\u001b[1;33m\u001b[0m\u001b[0m\n\u001b[1;32m----> 2\u001b[1;33m \u001b[0mX\u001b[0m \u001b[1;33m=\u001b[0m \u001b[0mdf_shuffled\u001b[0m\u001b[1;33m.\u001b[0m\u001b[0mdrop\u001b[0m\u001b[1;33m(\u001b[0m\u001b[0mDV\u001b[0m\u001b[1;33m,\u001b[0m \u001b[0maxis\u001b[0m\u001b[1;33m=\u001b[0m\u001b[1;36m1\u001b[0m\u001b[1;33m)\u001b[0m\u001b[1;33m\u001b[0m\u001b[1;33m\u001b[0m\u001b[0m\n\u001b[0m\u001b[0;32m      3\u001b[0m \u001b[0my\u001b[0m \u001b[1;33m=\u001b[0m \u001b[0mdf_shuffled\u001b[0m\u001b[1;33m[\u001b[0m\u001b[0mDV\u001b[0m\u001b[1;33m]\u001b[0m\u001b[1;33m\u001b[0m\u001b[1;33m\u001b[0m\u001b[0m\n",
      "\u001b[1;31mNameError\u001b[0m: name 'df_shuffled' is not defined"
     ]
    }
   ],
   "source": [
    "DV = 'Rain'\n",
    "X = df_shuffled.drop(DV, axis=1)\n",
    "y = df_shuffled[DV]"
   ]
  },
  {
   "cell_type": "code",
   "execution_count": 3,
   "metadata": {},
   "outputs": [
    {
     "ename": "NameError",
     "evalue": "name 'X' is not defined",
     "output_type": "error",
     "traceback": [
      "\u001b[1;31m---------------------------------------------------------------------------\u001b[0m",
      "\u001b[1;31mNameError\u001b[0m                                 Traceback (most recent call last)",
      "\u001b[1;32m<ipython-input-3-da0f1e5bb2c7>\u001b[0m in \u001b[0;36m<module>\u001b[1;34m\u001b[0m\n\u001b[0;32m      1\u001b[0m \u001b[1;32mfrom\u001b[0m \u001b[0msklearn\u001b[0m\u001b[1;33m.\u001b[0m\u001b[0mmodel_selection\u001b[0m \u001b[1;32mimport\u001b[0m \u001b[0mtrain_test_split\u001b[0m\u001b[1;33m\u001b[0m\u001b[1;33m\u001b[0m\u001b[0m\n\u001b[1;32m----> 2\u001b[1;33m X_train, X_test, y_train, y_test = train_test_split(X, y, test_size=0.33,\n\u001b[0m\u001b[0;32m      3\u001b[0m                                                    random_state =42)\n",
      "\u001b[1;31mNameError\u001b[0m: name 'X' is not defined"
     ]
    }
   ],
   "source": [
    "from sklearn.model_selection import train_test_split\n",
    "X_train, X_test, y_train, y_test = train_test_split(X, y, test_size=0.33,\n",
    "                                                   random_state =42)"
   ]
  },
  {
   "cell_type": "code",
   "execution_count": null,
   "metadata": {},
   "outputs": [],
   "source": [
    "from sklearn.preprocessing import StandardScaler\n",
    "model = StandardScaler()\n",
    "X_train_scaled = model.fit_transform(X_train)\n",
    "X_test_scaled = model.transform(X_test)"
   ]
  },
  {
   "cell_type": "code",
   "execution_count": null,
   "metadata": {},
   "outputs": [],
   "source": [
    "import numpy as np\n",
    "grid = {'C': np.linspace(1, 10, 10),'kernel':\n",
    "        ['linear','poly ','rbf','sigmoid']}"
   ]
  },
  {
   "cell_type": "code",
   "execution_count": null,
   "metadata": {},
   "outputs": [],
   "source": [
    "from sklearn.model_selection  import GridSearchCV\n",
    "from sklearn.svm import SVC\n",
    "\n",
    "model = GridSearchCV (SVC(gamma='auto'), grid, scoring='f1', cv=5)\n",
    "model.fit(X_train_scaled, y_train)"
   ]
  },
  {
   "cell_type": "code",
   "execution_count": 52,
   "metadata": {},
   "outputs": [
    {
     "name": "stdout",
     "output_type": "stream",
     "text": [
      "{'C': 1.0, 'kernel': 'linear'}\n"
     ]
    }
   ],
   "source": [
    "best_parameters = model.best_params_\n",
    "print(best_parameters)"
   ]
  },
  {
   "cell_type": "code",
   "execution_count": 59,
   "metadata": {},
   "outputs": [
    {
     "name": "stdout",
     "output_type": "stream",
     "text": [
      "            Predicted No  Predicted Yes  Total\n",
      "Actual No            376              7    383\n",
      "Acutal Yes            12           2905   2917\n",
      "Total                388           2912   3300\n"
     ]
    }
   ],
   "source": [
    "predicted_class = model.predict(X_test_scaled)\n",
    "\n",
    "#evaluasi Prediksi = Confusion Matrix\n",
    "from sklearn.metrics import confusion_matrix\n",
    "import numpy as np\n",
    "cm = pd.DataFrame(confusion_matrix(y_test, predicted_class))\n",
    "cm[\"Total\"] = np.sum(cm, axis=1 )\n",
    "cm = cm.append(np.sum(cm, axis= 0), ignore_index=True)\n",
    "cm.columns = ['Predicted No',\"Predicted Yes\",\"Total\"]\n",
    "cm = cm.set_index([[\"Actual No\",\"Acutal Yes\",\"Total\"]])\n",
    "print(cm)"
   ]
  },
  {
   "cell_type": "code",
   "execution_count": 60,
   "metadata": {},
   "outputs": [
    {
     "data": {
      "text/plain": [
       "(3300,)"
      ]
     },
     "execution_count": 60,
     "metadata": {},
     "output_type": "execute_result"
    }
   ],
   "source": [
    "#prediksi tidak hujan = Betul? 12, Salah? 376\n",
    "#Prediksi hujan = betul? 2905, salah? 7\n",
    "y_test.shape"
   ]
  },
  {
   "cell_type": "code",
   "execution_count": 61,
   "metadata": {},
   "outputs": [
    {
     "name": "stdout",
     "output_type": "stream",
     "text": [
      "              precision    recall  f1-score   support\n",
      "\n",
      "           0       0.97      0.98      0.98       383\n",
      "           1       1.00      1.00      1.00      2917\n",
      "\n",
      "    accuracy                           0.99      3300\n",
      "   macro avg       0.98      0.99      0.99      3300\n",
      "weighted avg       0.99      0.99      0.99      3300\n",
      "\n"
     ]
    }
   ],
   "source": [
    "#hasil dari  klasifikasi\n",
    "from sklearn.metrics import classification_report \n",
    "print(classification_report(y_test, predicted_class))\n"
   ]
  },
  {
   "cell_type": "code",
   "execution_count": null,
   "metadata": {},
   "outputs": [],
   "source": [
    "from matplotlib  import pyplot"
   ]
  },
  {
   "cell_type": "code",
   "execution_count": 62,
   "metadata": {},
   "outputs": [
    {
     "data": {
      "text/plain": [
       "7217    1\n",
       "8291    1\n",
       "4607    0\n",
       "5114    1\n",
       "1859    1\n",
       "Name: Rain, dtype: int64"
      ]
     },
     "execution_count": 62,
     "metadata": {},
     "output_type": "execute_result"
    }
   ],
   "source": [
    "y_test.head()"
   ]
  },
  {
   "cell_type": "code",
   "execution_count": null,
   "metadata": {},
   "outputs": [],
   "source": []
  }
 ],
 "metadata": {
  "kernelspec": {
   "display_name": "Python 3",
   "language": "python",
   "name": "python3"
  },
  "language_info": {
   "codemirror_mode": {
    "name": "ipython",
    "version": 3
   },
   "file_extension": ".py",
   "mimetype": "text/x-python",
   "name": "python",
   "nbconvert_exporter": "python",
   "pygments_lexer": "ipython3",
   "version": "3.8.3"
  }
 },
 "nbformat": 4,
 "nbformat_minor": 4
}
