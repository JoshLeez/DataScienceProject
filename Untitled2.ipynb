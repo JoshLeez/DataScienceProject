{
 "cells": [
  {
   "cell_type": "code",
   "execution_count": 2,
   "metadata": {},
   "outputs": [
    {
     "name": "stdout",
     "output_type": "stream",
     "text": [
      "Nama Pacar Jennifer Te adalah JoshLee\n",
      "Betul, JoshLee X Jennifer Te\n"
     ]
    }
   ],
   "source": [
    "n = input(\"Nama Pacar Jennifer Te adalah \")\n",
    "if n==\"JoshLee\":\n",
    "    print(\"Betul,\",n,\"X Jennifer Te\")\n",
    "    "
   ]
  },
  {
   "cell_type": "code",
   "execution_count": 23,
   "metadata": {},
   "outputs": [
    {
     "name": "stdout",
     "output_type": "stream",
     "text": [
      "1 Then 2 Then 3 Then 4 Then 5 Then 6 Then 7 Then 8 Then 9 Then 10 Then 11 Then 12 Then 13 Then "
     ]
    }
   ],
   "source": [
    "n = 0\n",
    "while n <= 12:\n",
    "    n += 1\n",
    "    print(n,end=\" Then \")"
   ]
  },
  {
   "cell_type": "code",
   "execution_count": 27,
   "metadata": {},
   "outputs": [
    {
     "name": "stdout",
     "output_type": "stream",
     "text": [
      "Pick a number10\n",
      "10  is right Answer \n"
     ]
    }
   ],
   "source": [
    "n = int(input(\"Pick a number\"))\n",
    "if n != 10:\n",
    "    print(\"Wrong Answer\")\n",
    "else:\n",
    "    print(n,\" is right Answer \")"
   ]
  },
  {
   "cell_type": "code",
   "execution_count": 33,
   "metadata": {},
   "outputs": [
    {
     "name": "stdout",
     "output_type": "stream",
     "text": [
      "Tebak yang Baik 50\n",
      "nice\n"
     ]
    }
   ],
   "source": [
    "n = int(input(\"Tebak yang Baik \"))\n",
    "if n - 25 != 25:\n",
    "    print(\"nob\")\n",
    "else:\n",
    "    print(\"nice\")\n",
    "    "
   ]
  },
  {
   "cell_type": "code",
   "execution_count": null,
   "metadata": {},
   "outputs": [],
   "source": []
  }
 ],
 "metadata": {
  "kernelspec": {
   "display_name": "Python 3",
   "language": "python",
   "name": "python3"
  },
  "language_info": {
   "codemirror_mode": {
    "name": "ipython",
    "version": 3
   },
   "file_extension": ".py",
   "mimetype": "text/x-python",
   "name": "python",
   "nbconvert_exporter": "python",
   "pygments_lexer": "ipython3",
   "version": "3.8.3"
  }
 },
 "nbformat": 4,
 "nbformat_minor": 4
}
